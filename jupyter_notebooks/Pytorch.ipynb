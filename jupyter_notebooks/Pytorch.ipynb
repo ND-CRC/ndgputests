{
 "cells": [
  {
   "cell_type": "code",
   "execution_count": 1,
   "metadata": {},
   "outputs": [
    {
     "name": "stdout",
     "output_type": "stream",
     "text": [
      "/scratch365/khurtado/ndgputests/jupyter_notebooks\r\n"
     ]
    }
   ],
   "source": [
    "!pwd"
   ]
  },
  {
   "cell_type": "code",
   "execution_count": 2,
   "metadata": {},
   "outputs": [
    {
     "name": "stdout",
     "output_type": "stream",
     "text": [
      "qa-rtx6k-023.crc.nd.edu\r\n"
     ]
    }
   ],
   "source": [
    "!hostname"
   ]
  },
  {
   "cell_type": "code",
   "execution_count": 3,
   "metadata": {},
   "outputs": [
    {
     "name": "stdout",
     "output_type": "stream",
     "text": [
      "CentOS Linux release 7.7.1908 (Core)\r\n"
     ]
    }
   ],
   "source": [
    "!cat /etc/redhat-release"
   ]
  },
  {
   "cell_type": "code",
   "execution_count": 11,
   "metadata": {},
   "outputs": [
    {
     "name": "stdout",
     "output_type": "stream",
     "text": [
      "Sat Apr 25 15:50:03 2020       \n",
      "+-----------------------------------------------------------------------------+\n",
      "| NVIDIA-SMI 440.36       Driver Version: 440.36       CUDA Version: 10.2     |\n",
      "|-------------------------------+----------------------+----------------------+\n",
      "| GPU  Name        Persistence-M| Bus-Id        Disp.A | Volatile Uncorr. ECC |\n",
      "| Fan  Temp  Perf  Pwr:Usage/Cap|         Memory-Usage | GPU-Util  Compute M. |\n",
      "|===============================+======================+======================|\n",
      "|   0  Quadro RTX 6000     Off  | 00000000:06:00.0 Off |                    0 |\n",
      "| N/A   26C    P0    55W / 250W |    886MiB / 22698MiB |      0%      Default |\n",
      "+-------------------------------+----------------------+----------------------+\n",
      "|   1  Quadro RTX 6000     Off  | 00000000:2F:00.0 Off |                    0 |\n",
      "| N/A   20C    P8    11W / 250W |     11MiB / 22698MiB |      0%      Default |\n",
      "+-------------------------------+----------------------+----------------------+\n",
      "|   2  Quadro RTX 6000     Off  | 00000000:86:00.0 Off |                    0 |\n",
      "| N/A   20C    P8    17W / 250W |     11MiB / 22698MiB |      0%      Default |\n",
      "+-------------------------------+----------------------+----------------------+\n",
      "|   3  Quadro RTX 6000     Off  | 00000000:D8:00.0 Off |                    0 |\n",
      "| N/A   19C    P8    12W / 250W |     11MiB / 22698MiB |      0%      Default |\n",
      "+-------------------------------+----------------------+----------------------+\n",
      "                                                                               \n",
      "+-----------------------------------------------------------------------------+\n",
      "| Processes:                                                       GPU Memory |\n",
      "|  GPU       PID   Type   Process name                             Usage      |\n",
      "|=============================================================================|\n",
      "+-----------------------------------------------------------------------------+\n"
     ]
    }
   ],
   "source": [
    "!nvidia-smi"
   ]
  },
  {
   "cell_type": "code",
   "execution_count": 4,
   "metadata": {},
   "outputs": [
    {
     "name": "stdout",
     "output_type": "stream",
     "text": [
      "--- Debug information ---\n",
      "- torch version: 1.4.0\n",
      "- GPU information:\n",
      "-- CUDA Available: True\n",
      "-- Number of devices: 1\n",
      "-- CUDA Device Name: Quadro RTX 6000\n",
      "-- Current CUDA device: 0\n",
      "------\n",
      "result of matrix multiplication\n",
      "===============================\n",
      "tensor([[ 1.0000e+00,  0.0000e+00],\n",
      "        [-4.7684e-07,  1.0000e+00]], device='cuda:0')\n",
      "===============================\n"
     ]
    }
   ],
   "source": [
    "import torch\n",
    "\n",
    "print(\"--- Debug information ---\")\n",
    "print(\"- torch version: {version}\".format(version=torch.__version__))\n",
    "print(\"- GPU information:\")\n",
    "if torch.cuda.is_available():\n",
    "    print(\"-- CUDA Available: True\")\n",
    "    print(\"-- Number of devices: {0}\".format(torch.cuda.device_count()))\n",
    "    print(\"-- CUDA Device Name: {0}\".format(torch.cuda.get_device_name(0)))\n",
    "    print(\"-- Current CUDA device: {0}\".format(torch.cuda.current_device()))\n",
    "else:\n",
    "    print(\"- No CUDA devices available. Torch will use CPU instead\")\n",
    "print(\"------\")\n",
    "\n",
    "device = torch.device('cuda:{0}'.format(torch.cuda.current_device()) if torch.cuda.is_available() else 'cpu')\n",
    "\n",
    "matrix1 = torch.tensor([[1.0,2.0],[3.0,4.0]]).to(device)\n",
    "matrix2 = matrix1.inverse()\n",
    "product = torch.matmul(matrix1, matrix2)\n",
    "print(\"result of matrix multiplication\")\n",
    "print(\"===============================\")\n",
    "print(product)\n",
    "print(\"===============================\")"
   ]
  },
  {
   "cell_type": "code",
   "execution_count": null,
   "metadata": {},
   "outputs": [],
   "source": []
  }
 ],
 "metadata": {
  "kernelspec": {
   "display_name": "Python 3",
   "language": "python",
   "name": "python3"
  },
  "language_info": {
   "codemirror_mode": {
    "name": "ipython",
    "version": 3
   },
   "file_extension": ".py",
   "mimetype": "text/x-python",
   "name": "python",
   "nbconvert_exporter": "python",
   "pygments_lexer": "ipython3",
   "version": "3.6.8"
  }
 },
 "nbformat": 4,
 "nbformat_minor": 4
}
