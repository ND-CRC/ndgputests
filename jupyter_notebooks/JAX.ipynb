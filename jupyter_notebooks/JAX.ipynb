{
 "cells": [
  {
   "cell_type": "code",
   "execution_count": 3,
   "metadata": {},
   "outputs": [
    {
     "name": "stdout",
     "output_type": "stream",
     "text": [
      "qa-rtx6k-031.crc.nd.edu\r\n"
     ]
    }
   ],
   "source": [
    "!hostname"
   ]
  },
  {
   "cell_type": "code",
   "execution_count": 13,
   "metadata": {},
   "outputs": [
    {
     "name": "stdout",
     "output_type": "stream",
     "text": [
      "Thu May  7 17:35:38 2020       \n",
      "+-----------------------------------------------------------------------------+\n",
      "| NVIDIA-SMI 440.36       Driver Version: 440.36       CUDA Version: 10.2     |\n",
      "|-------------------------------+----------------------+----------------------+\n",
      "| GPU  Name        Persistence-M| Bus-Id        Disp.A | Volatile Uncorr. ECC |\n",
      "| Fan  Temp  Perf  Pwr:Usage/Cap|         Memory-Usage | GPU-Util  Compute M. |\n",
      "|===============================+======================+======================|\n",
      "|   0  Quadro RTX 6000     Off  | 00000000:06:00.0 Off |                    0 |\n",
      "| N/A   31C    P0    54W / 250W |  20544MiB / 22698MiB |      0%      Default |\n",
      "+-------------------------------+----------------------+----------------------+\n",
      "|   1  Quadro RTX 6000     Off  | 00000000:2F:00.0 Off |                    0 |\n",
      "| N/A   21C    P8    12W / 250W |     11MiB / 22698MiB |      0%      Default |\n",
      "+-------------------------------+----------------------+----------------------+\n",
      "|   2  Quadro RTX 6000     Off  | 00000000:86:00.0 Off |                    0 |\n",
      "| N/A   21C    P8    12W / 250W |     11MiB / 22698MiB |      0%      Default |\n",
      "+-------------------------------+----------------------+----------------------+\n",
      "|   3  Quadro RTX 6000     Off  | 00000000:D8:00.0 Off |                    0 |\n",
      "| N/A   21C    P8    14W / 250W |     11MiB / 22698MiB |      0%      Default |\n",
      "+-------------------------------+----------------------+----------------------+\n",
      "                                                                               \n",
      "+-----------------------------------------------------------------------------+\n",
      "| Processes:                                                       GPU Memory |\n",
      "|  GPU       PID   Type   Process name                             Usage      |\n",
      "|=============================================================================|\n",
      "+-----------------------------------------------------------------------------+\n"
     ]
    }
   ],
   "source": [
    "!nvidia-smi"
   ]
  },
  {
   "cell_type": "markdown",
   "metadata": {},
   "source": [
    "Import jax settings:"
   ]
  },
  {
   "cell_type": "code",
   "execution_count": 5,
   "metadata": {},
   "outputs": [],
   "source": [
    "import jax\n",
    "import jax.numpy as np\n",
    "from jax import grad, jit, vmap\n",
    "from jax import random"
   ]
  },
  {
   "cell_type": "markdown",
   "metadata": {},
   "source": [
    "Now, let's make sure we have a GPU allocated:"
   ]
  },
  {
   "cell_type": "code",
   "execution_count": 6,
   "metadata": {},
   "outputs": [
    {
     "name": "stdout",
     "output_type": "stream",
     "text": [
      "-----GPU devices information-----\n",
      "[GpuDevice(id=0)]\n",
      "GPU host id: 0\n",
      "---------------------------------\n"
     ]
    }
   ],
   "source": [
    "print(\"-----GPU devices information-----\")\n",
    "print(jax.devices())\n",
    "print(\"GPU host id: {0}\".format(jax.host_id(backend=\"gpu\")))\n",
    "print(\"---------------------------------\")"
   ]
  },
  {
   "cell_type": "markdown",
   "metadata": {},
   "source": [
    "Do a matrix multiplication with the GPU(s):"
   ]
  },
  {
   "cell_type": "code",
   "execution_count": 7,
   "metadata": {},
   "outputs": [
    {
     "name": "stdout",
     "output_type": "stream",
     "text": [
      "Generate a random matrix\n",
      "[[ 1.3890220e+00 -3.2292119e-01  1.5543443e-01 ...  1.6672333e-01\n",
      "   1.0217550e+00  9.6981764e-02]\n",
      " [ 1.0637628e+00 -1.8089763e+00 -7.7909984e-02 ...  1.1778636e+00\n",
      "  -4.3357372e-01 -2.7877533e-01]\n",
      " [-4.4029754e-01 -3.2537547e-01  2.7817255e-01 ...  6.8317270e-01\n",
      "  -6.1108190e-01 -6.3071573e-01]\n",
      " ...\n",
      " [ 2.9218230e-01 -4.0055802e-01 -1.4978158e+00 ...  3.0673659e+00\n",
      "  -1.1350130e+00  4.0964666e-01]\n",
      " [ 2.7635786e-01  1.5621810e-01  2.2997444e-03 ...  6.8930797e-02\n",
      "  -4.0692501e-02  4.1683877e-01]\n",
      " [ 1.0231308e+00 -2.7423611e-01 -8.0369931e-01 ...  1.9415886e+00\n",
      "   1.0946993e+00  2.1876085e+00]]\n",
      "Multiply by its transpose:\n",
      "result of matrix multiplication\n",
      "=================================\n",
      "[[2938.1716     17.38843    36.508224 ...   32.315964   51.31904\n",
      "   -34.432022]\n",
      " [  17.38843  3031.179      41.194584 ...   47.24877    58.077858\n",
      "   -13.371615]\n",
      " [  36.508224   41.194584 3000.4697   ...    8.109009  -42.50184\n",
      "    26.49511 ]\n",
      " ...\n",
      " [  32.315964   47.24877     8.109009 ... 2916.339      34.381073\n",
      "    39.404526]\n",
      " [  51.31904    58.077858  -42.50184  ...   34.381073 3032.2844\n",
      "    63.69183 ]\n",
      " [ -34.432022  -13.371615   26.49511  ...   39.404526   63.69183\n",
      "  3033.4866  ]]\n"
     ]
    }
   ],
   "source": [
    "key = random.PRNGKey(0)\n",
    "size = 3000\n",
    "print(\"Generate a random matrix\")\n",
    "x = random.normal(key, (size, size), dtype=np.float32)\n",
    "print(x)\n",
    "print(\"Multiply by its transpose:\")\n",
    "print(\"result of matrix multiplication\")\n",
    "print(\"=================================\")\n",
    "# Run on the GPU\n",
    "res = np.dot(x, x.T).block_until_ready()\n",
    "print(res)"
   ]
  },
  {
   "cell_type": "code",
   "execution_count": null,
   "metadata": {},
   "outputs": [],
   "source": []
  }
 ],
 "metadata": {
  "kernelspec": {
   "display_name": "Python 3",
   "language": "python",
   "name": "python3"
  },
  "language_info": {
   "codemirror_mode": {
    "name": "ipython",
    "version": 3
   },
   "file_extension": ".py",
   "mimetype": "text/x-python",
   "name": "python",
   "nbconvert_exporter": "python",
   "pygments_lexer": "ipython3",
   "version": "3.6.10"
  }
 },
 "nbformat": 4,
 "nbformat_minor": 4
}
